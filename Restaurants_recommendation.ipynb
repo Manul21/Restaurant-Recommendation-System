{
 "cells": [
  {
   "cell_type": "code",
   "execution_count": 1,
   "id": "41e1e41b",
   "metadata": {},
   "outputs": [],
   "source": [
    "import pandas as pd\n",
    "import numpy as np\n",
    "import matplotlib.pyplot as plt \n",
    "%matplotlib inline\n",
    "import seaborn as sns \n",
    "from collections import Counter \n",
    "import warnings \n",
    "import math \n",
    "import itertools\n",
    "from sklearn.neighbors import KNeighborsClassifier\n",
    "from sklearn.metrics import top_k_accuracy_score\n",
    "warnings.filterwarnings(\"ignore\")"
   ]
  },
  {
   "cell_type": "code",
   "execution_count": 2,
   "id": "0f85d20b",
   "metadata": {},
   "outputs": [
    {
     "data": {
      "text/plain": [
       "<bound method NDFrame.head of              Restaurant_Name  \\\n",
       "0                   Rustom's   \n",
       "1                  Cafe Lota   \n",
       "2     Dum-Pukht - ITC Maurya   \n",
       "3                Burma Burma   \n",
       "4              The Big Chill   \n",
       "...                      ...   \n",
       "1960          Bablu Chic-Inn   \n",
       "1961               Kovilakam   \n",
       "1962        Krips Restaurant   \n",
       "1963                Cafe 147   \n",
       "1964                Pizzasia   \n",
       "\n",
       "                                               Category  Pricing_for_2  \\\n",
       "0     Parsi, Street Food, North Indian, Desserts, Be...           2100   \n",
       "1           Cafe, South Indian, North Indian, Beverages           1200   \n",
       "2                       Mughlai, North Indian, Desserts           5000   \n",
       "3           Asian, Burmese, Bubble Tea, Desserts, Salad           1600   \n",
       "4                        Continental, American, Italian           1500   \n",
       "...                                                 ...            ...   \n",
       "1960          Mughlai, North Indian, Chinese, Fast Food            500   \n",
       "1961                                       South Indian            350   \n",
       "1962                     North Indian, Chinese, Mughlai            900   \n",
       "1963  Cafe, North Indian, Chinese, Kashmiri, Rolls, ...            800   \n",
       "1964                        Pizza, Fast Food, Beverages            500   \n",
       "\n",
       "                                         Locality  Dining_Rating  \\\n",
       "0                                  ITO, New Delhi            4.9   \n",
       "1                       Pragati Maidan, New Delhi            4.9   \n",
       "2             ITC Maurya, Chanakyapuri, New Delhi            4.9   \n",
       "3              Cyber Hub, DLF Cyber City, Gurgaon            4.9   \n",
       "4                          Khan Market, New Delhi            4.9   \n",
       "...                                           ...            ...   \n",
       "1960               Ashok Vihar Phase 3, New Delhi            3.9   \n",
       "1961                    Dilshad Garden, New Delhi            3.9   \n",
       "1962   Basant Lok Market, Vasant Vihar, New Delhi            3.9   \n",
       "1963                      Sainik Farms, New Delhi            3.9   \n",
       "1964                   Gaur City 2, Greater Noida            3.9   \n",
       "\n",
       "      Dining_Review_Count  Delivery_Rating  Delivery_Rating_Count  \\\n",
       "0                    1885              4.4                   1844   \n",
       "1                    3748              3.9                     37   \n",
       "2                    1371              NaN                      0   \n",
       "3                    2636              4.4                   1238   \n",
       "4                    6487              NaN                      0   \n",
       "...                   ...              ...                    ...   \n",
       "1960                  183              4.1                    545   \n",
       "1961                  114              NaN                      1   \n",
       "1962                  316              3.9                   2977   \n",
       "1963                  120              3.8                    196   \n",
       "1964                  165              3.9                   5196   \n",
       "\n",
       "                                                Website  \\\n",
       "0      https://www.zomato.com/ncr/rustoms-ito-new-delhi   \n",
       "1     https://www.zomato.com/ncr/cafe-lota-pragati-m...   \n",
       "2     https://www.zomato.com/ncr/dum-pukht-itc-maury...   \n",
       "3     https://www.zomato.com/ncr/burma-burma-dlf-cyb...   \n",
       "4     https://www.zomato.com/ncr/the-big-chill-khan-...   \n",
       "...                                                 ...   \n",
       "1960  https://www.zomato.com/ncr/bablu-chic-inn-asho...   \n",
       "1961  https://www.zomato.com/ncr/kovilakam-dilshad-g...   \n",
       "1962  https://www.zomato.com/ncr/krips-restaurant-va...   \n",
       "1963  https://www.zomato.com/ncr/cafe-147-sainik-far...   \n",
       "1964  https://www.zomato.com/ncr/pizzasia-gaur-city-...   \n",
       "\n",
       "                                                Address     Phone_No  \\\n",
       "0     Delhi Parsi Anjuman, LNJP Colony, Bahadur Shah...   9.1991E+11   \n",
       "1     National Crafts Museum, Gate 2, Bhairon Marg, ...  9.17839E+11   \n",
       "2                   ITC Maurya, Chanakyapuri, New Delhi  9.11146E+11   \n",
       "3     Shop 6, Ground Floor, Building 8, Tower C, Cyb...  9.11244E+11   \n",
       "4                          68-A, Khan Market, New Delhi  9.11142E+11   \n",
       "...                                                 ...          ...   \n",
       "1960  Shop 9, Pocket B, DDA Market, Ashok Vihar Phas...      9.2E+11   \n",
       "1961  F-1, Lower Ground 2, Mrignaini Chowk, Dilshad ...  9.19654E+11   \n",
       "1962  59, Community Centre, Basant Lok Market, Vasan...  9.11141E+11   \n",
       "1963  Shop A1/7, Ground Floor, Main IGNOU Road, Neb ...  9.19812E+11   \n",
       "1964  Shop 14, Ground Floor, Bhawishya India Tower, ...  9.18861E+11   \n",
       "\n",
       "       Latitude  Longitude                                         Known_For2  \\\n",
       "0     28.638167  77.240472                                                NaN   \n",
       "1     28.613429  77.242471  Pondicherry Fish Curry, Coconut Rabdi, Sabudan...   \n",
       "2     28.598200  77.173661  Royal ambiance and Mughlai cuisine, also recei...   \n",
       "3     28.494464  77.088532  Coconut Milk Dessert, Honey Caviar, Kaffir Lim...   \n",
       "4     28.600350  77.227493  Irish Cream Tiramisu, Penne Vodka, Mississippi...   \n",
       "...         ...        ...                                                ...   \n",
       "1960  28.692473  77.178004  Great Recommendations, Tamper Proof Packaging,...   \n",
       "1961  28.684101  77.326725  Kerala Parotta, Roasted Chicken, Chicken Curry...   \n",
       "1962  28.557310  77.163943  Excellent Food, Good Ambience, Courteous Staff...   \n",
       "1963  28.510338  77.202056  Pool, Live Music, Cafe, Environment, Good Plac...   \n",
       "1964  28.618250  77.427417  Cordial Staff, Great Recommendations, Mouth Wa...   \n",
       "\n",
       "                                            Known_For22  \n",
       "0                                                   NaN  \n",
       "1     Artistic Decor, The Service, Natural Ambience,...  \n",
       "2                                                   NaN  \n",
       "3     Knowledgeable Staff, Authentic, Soothing Ambie...  \n",
       "4     Retro Ambience, Yummy Desserts, Big Portions, ...  \n",
       "...                                                 ...  \n",
       "1960                                                NaN  \n",
       "1961  Lip Smacking Food, Amazing Food, Owner, Good P...  \n",
       "1962                                                NaN  \n",
       "1963                                                NaN  \n",
       "1964                                                NaN  \n",
       "\n",
       "[1965 rows x 15 columns]>"
      ]
     },
     "execution_count": 2,
     "metadata": {},
     "output_type": "execute_result"
    }
   ],
   "source": [
    "df = pd.read_csv('C:/Users/manul/Desktop/Major project/Project/DelhiNCR Restaurants.csv',encoding='latin-1')\n",
    "df.columns\n",
    "df.head"
   ]
  },
  {
   "cell_type": "code",
   "execution_count": 3,
   "id": "502d796b",
   "metadata": {},
   "outputs": [
    {
     "name": "stdout",
     "output_type": "stream",
     "text": [
      "<class 'pandas.core.frame.DataFrame'>\n",
      "RangeIndex: 1965 entries, 0 to 1964\n",
      "Data columns (total 15 columns):\n",
      " #   Column                 Non-Null Count  Dtype  \n",
      "---  ------                 --------------  -----  \n",
      " 0   Restaurant_Name        1965 non-null   object \n",
      " 1   Category               1965 non-null   object \n",
      " 2   Pricing_for_2          1965 non-null   int64  \n",
      " 3   Locality               1965 non-null   object \n",
      " 4   Dining_Rating          1965 non-null   float64\n",
      " 5   Dining_Review_Count    1965 non-null   int64  \n",
      " 6   Delivery_Rating        1563 non-null   float64\n",
      " 7   Delivery_Rating_Count  1965 non-null   int64  \n",
      " 8   Website                1965 non-null   object \n",
      " 9   Address                1965 non-null   object \n",
      " 10  Phone_No               1965 non-null   object \n",
      " 11  Latitude               1965 non-null   float64\n",
      " 12  Longitude              1965 non-null   float64\n",
      " 13  Known_For2             1560 non-null   object \n",
      " 14  Known_For22            1124 non-null   object \n",
      "dtypes: float64(4), int64(3), object(8)\n",
      "memory usage: 230.4+ KB\n"
     ]
    },
    {
     "data": {
      "text/html": [
       "<div>\n",
       "<style scoped>\n",
       "    .dataframe tbody tr th:only-of-type {\n",
       "        vertical-align: middle;\n",
       "    }\n",
       "\n",
       "    .dataframe tbody tr th {\n",
       "        vertical-align: top;\n",
       "    }\n",
       "\n",
       "    .dataframe thead th {\n",
       "        text-align: right;\n",
       "    }\n",
       "</style>\n",
       "<table border=\"1\" class=\"dataframe\">\n",
       "  <thead>\n",
       "    <tr style=\"text-align: right;\">\n",
       "      <th></th>\n",
       "      <th>Pricing_for_2</th>\n",
       "      <th>Dining_Rating</th>\n",
       "      <th>Dining_Review_Count</th>\n",
       "      <th>Delivery_Rating</th>\n",
       "      <th>Delivery_Rating_Count</th>\n",
       "      <th>Latitude</th>\n",
       "      <th>Longitude</th>\n",
       "    </tr>\n",
       "  </thead>\n",
       "  <tbody>\n",
       "    <tr>\n",
       "      <th>count</th>\n",
       "      <td>1965.000000</td>\n",
       "      <td>1965.000000</td>\n",
       "      <td>1965.000000</td>\n",
       "      <td>1563.000000</td>\n",
       "      <td>1965.000000</td>\n",
       "      <td>1965.000000</td>\n",
       "      <td>1965.000000</td>\n",
       "    </tr>\n",
       "    <tr>\n",
       "      <th>mean</th>\n",
       "      <td>1090.687023</td>\n",
       "      <td>4.140000</td>\n",
       "      <td>721.954198</td>\n",
       "      <td>3.964299</td>\n",
       "      <td>3029.550636</td>\n",
       "      <td>28.549542</td>\n",
       "      <td>77.161570</td>\n",
       "    </tr>\n",
       "    <tr>\n",
       "      <th>std</th>\n",
       "      <td>934.481617</td>\n",
       "      <td>0.202147</td>\n",
       "      <td>932.618839</td>\n",
       "      <td>0.242305</td>\n",
       "      <td>6529.839896</td>\n",
       "      <td>0.784241</td>\n",
       "      <td>1.685399</td>\n",
       "    </tr>\n",
       "    <tr>\n",
       "      <th>min</th>\n",
       "      <td>100.000000</td>\n",
       "      <td>3.900000</td>\n",
       "      <td>3.000000</td>\n",
       "      <td>2.800000</td>\n",
       "      <td>0.000000</td>\n",
       "      <td>-5.975200</td>\n",
       "      <td>2.650463</td>\n",
       "    </tr>\n",
       "    <tr>\n",
       "      <th>25%</th>\n",
       "      <td>500.000000</td>\n",
       "      <td>4.000000</td>\n",
       "      <td>244.000000</td>\n",
       "      <td>3.800000</td>\n",
       "      <td>34.000000</td>\n",
       "      <td>28.496564</td>\n",
       "      <td>77.100745</td>\n",
       "    </tr>\n",
       "    <tr>\n",
       "      <th>50%</th>\n",
       "      <td>700.000000</td>\n",
       "      <td>4.100000</td>\n",
       "      <td>433.000000</td>\n",
       "      <td>4.000000</td>\n",
       "      <td>604.000000</td>\n",
       "      <td>28.567882</td>\n",
       "      <td>77.201558</td>\n",
       "    </tr>\n",
       "    <tr>\n",
       "      <th>75%</th>\n",
       "      <td>1500.000000</td>\n",
       "      <td>4.300000</td>\n",
       "      <td>842.000000</td>\n",
       "      <td>4.100000</td>\n",
       "      <td>3316.000000</td>\n",
       "      <td>28.635845</td>\n",
       "      <td>77.258408</td>\n",
       "    </tr>\n",
       "    <tr>\n",
       "      <th>max</th>\n",
       "      <td>8000.000000</td>\n",
       "      <td>4.900000</td>\n",
       "      <td>10100.000000</td>\n",
       "      <td>4.500000</td>\n",
       "      <td>87700.000000</td>\n",
       "      <td>29.065189</td>\n",
       "      <td>77.536009</td>\n",
       "    </tr>\n",
       "  </tbody>\n",
       "</table>\n",
       "</div>"
      ],
      "text/plain": [
       "       Pricing_for_2  Dining_Rating  Dining_Review_Count  Delivery_Rating  \\\n",
       "count    1965.000000    1965.000000          1965.000000      1563.000000   \n",
       "mean     1090.687023       4.140000           721.954198         3.964299   \n",
       "std       934.481617       0.202147           932.618839         0.242305   \n",
       "min       100.000000       3.900000             3.000000         2.800000   \n",
       "25%       500.000000       4.000000           244.000000         3.800000   \n",
       "50%       700.000000       4.100000           433.000000         4.000000   \n",
       "75%      1500.000000       4.300000           842.000000         4.100000   \n",
       "max      8000.000000       4.900000         10100.000000         4.500000   \n",
       "\n",
       "       Delivery_Rating_Count     Latitude    Longitude  \n",
       "count            1965.000000  1965.000000  1965.000000  \n",
       "mean             3029.550636    28.549542    77.161570  \n",
       "std              6529.839896     0.784241     1.685399  \n",
       "min                 0.000000    -5.975200     2.650463  \n",
       "25%                34.000000    28.496564    77.100745  \n",
       "50%               604.000000    28.567882    77.201558  \n",
       "75%              3316.000000    28.635845    77.258408  \n",
       "max             87700.000000    29.065189    77.536009  "
      ]
     },
     "execution_count": 3,
     "metadata": {},
     "output_type": "execute_result"
    }
   ],
   "source": [
    "df.info()\n",
    "df.describe()"
   ]
  },
  {
   "cell_type": "code",
   "execution_count": 4,
   "id": "9a3665da",
   "metadata": {},
   "outputs": [],
   "source": [
    "df.dropna(inplace=True)\n",
    "df['id'] = df.index"
   ]
  },
  {
   "cell_type": "code",
   "execution_count": 5,
   "id": "f8aa50b1",
   "metadata": {},
   "outputs": [
    {
     "data": {
      "text/plain": [
       "array([' Pragati Maidan, New Delhi',\n",
       "       ' Cyber Hub, DLF Cyber City, Gurgaon', ' Lodhi Colony, New Delhi',\n",
       "       ' Sector 15, Gurgaon', ' Connaught Place, New Delhi',\n",
       "       ' Kailash Colony, New Delhi',\n",
       "       ' Two Horizon Center, Golf Course Road, Gurgaon',\n",
       "       ' Vijay Nagar, New Delhi', ' Hauz Khas Village, New Delhi',\n",
       "       ' Pandara Road Market, New Delhi', ' Mehrauli, New Delhi',\n",
       "       ' Anand Vihar, New Delhi',\n",
       "       ' Pacific Mall, Tagore Garden, New Delhi',\n",
       "       ' Select Citywalk Mall, Saket, New Delhi', ' Sushant Lok, Gurgaon',\n",
       "       ' Majnu ka Tila, New Delhi',\n",
       "       ' MGF Metropolis Mall, MG Road, Gurgaon', ' Sector 23, Gurgaon',\n",
       "       ' Suncity Business Tower, Golf Course Road, Gurgaon',\n",
       "       ' DLF Mall of India, Sector 18,  Noida, Noida',\n",
       "       ' Unity One Mall, Janakpuri, New Delhi',\n",
       "       ' Cross Point Mall, DLF Phase 4, Gurgaon', ' Sector 110, Noida',\n",
       "       ' DLF Avenue, Saket, New Delhi',\n",
       "       ' Greater Kailash 2 (GK2), New Delhi',\n",
       "       ' Sangam Courtyard, RK Puram, New Delhi',\n",
       "       ' Ambience Mall, DLF Phase 3, Gurgaon', ' Sector 15, Faridabad',\n",
       "       ' Greater Kailash 1 (GK1), New Delhi',\n",
       "       ' Eros City Square Mall, Sector 49, Gurgaon, Gurgaon',\n",
       "       ' Sector 29, Gurgaon', ' Lawrence Road, New Delhi',\n",
       "       ' Chhatarpur, New Delhi', ' Khan Market, New Delhi',\n",
       "       ' Safdarjung, New Delhi', ' Mandi House, New Delhi',\n",
       "       ' Chanakyapuri, New Delhi',\n",
       "       ' Ansal Plaza Mall, Khel Gaon Marg, New Delhi',\n",
       "       ' Paschim Vihar, New Delhi', ' R K Puram, New Delhi',\n",
       "       ' Hajipur, Noida', ' Hyatt Regency, Bhikaji Cama Place, New Delhi',\n",
       "       ' Sector 72, Noida', ' Kasbah, Greater Kailash (GK) 1, New Delhi',\n",
       "       ' Hauz Khas, New Delhi', ' Shahpur Jat, New Delhi',\n",
       "       ' Sector 56, Gurgaon', ' DLF Phase 1, Gurgaon',\n",
       "       ' Shopping Mall, DLF Phase 1, Gurgaon', ' Civil Lines, New Delhi',\n",
       "       ' Chanakya Mall, Chanakyapuri, New Delhi', ' Aerocity, New Delhi',\n",
       "       ' Sector 12, Dwarka, New Delhi', ' Prashant Vihar, New Delhi',\n",
       "       ' Saket, New Delhi', ' Sector 50, Gurgaon',\n",
       "       ' Delhi University-GTB Nagar, New Delhi', ' Sector 16, Faridabad',\n",
       "       ' Golf Course Road, Gurgaon', ' Raj Nagar, Ghaziabad',\n",
       "       ' Lajpat Nagar 2, New Delhi', ' Defence Colony, New Delhi',\n",
       "       ' Sector 135, Noida', ' Sector 5, Dwarka, New Delhi',\n",
       "       ' Karkardooma, New Delhi',\n",
       "       ' Defence Colony Main Market, Defence Colony, New Delhi',\n",
       "       ' South Point Mall, Golf Course Road, Gurgaon',\n",
       "       ' Ambience Mall, Vasant Kunj, New Delhi',\n",
       "       ' Central Arcade, DLF Phase 2, Gurgaon, Gurgaon',\n",
       "       ' East of Kailash, New Delhi', ' Sector 10, Dwarka, New Delhi',\n",
       "       ' DLF Galleria, DLF Phase 4, Gurgaon', ' Sikandarpur, Gurgaon',\n",
       "       ' Gardens Galleria, Sector 38 Noida, Noida',\n",
       "       ' Champa Gali, Saket, New Delhi',\n",
       "       ' Greater Kailash 3 (GK3), New Delhi', ' Rohini, New Delhi',\n",
       "       ' DLF Phase 5, Gurgaon', ' Sarojini Nagar, New Delhi',\n",
       "       ' Brahmaputra Shopping Complex, Sector 29, Noida, Noida',\n",
       "       ' Supermart 1, DLF Phase 4, Gurgaon', ' Indirapuram, Ghaziabad',\n",
       "       ' PVR Anupam Complex, Saket, New Delhi', ' Sector 18, Noida',\n",
       "       ' Sector 93, Noida', ' Rajouri Garden, New Delhi',\n",
       "       ' Essex Farms, Adchini, New Delhi',\n",
       "       ' M Block Market, Greater Kailash 2 (GK2), New Delhi',\n",
       "       ' City Centre Mall, Sector 12, Dwarka, New Delhi',\n",
       "       ' The Claridges, Aurangzeb Road, New Delhi',\n",
       "       ' Jama Masjid, New Delhi', ' Subhash Nagar, New Delhi',\n",
       "       ' Nirvana Courtyard, Sector 50, Gurgaon',\n",
       "       ' Community Centre, New Friends Colony, New Delhi',\n",
       "       ' DLF Phase 4, Gurgaon', ' Satyaniketan, New Delhi',\n",
       "       ' Karol Bagh, New Delhi', ' Crossing Republik, Ghaziabad',\n",
       "       ' Gaur City 1, Greater Noida',\n",
       "       ' Flyover Market, Defence Colony, New Delhi',\n",
       "       ' Central Plaza Mall, Golf Course Road, Gurgaon',\n",
       "       ' East Patel Nagar, New Delhi', ' Kamla Nagar, New Delhi',\n",
       "       ' Vasant Kunj, New Delhi', ' Sector 11, Dwarka, New Delhi',\n",
       "       ' Qutab Plaza, DLF Phase 1, Gurgaon', ' Sector 39, Gurgaon',\n",
       "       ' Kaushambi, Ghaziabad',\n",
       "       ' Rodeo Drive, Sector 49, Gurgaon, Gurgaon',\n",
       "       ' Nehru Place, New Delhi', ' JNU, New Delhi',\n",
       "       ' Sainik Farms, New Delhi', ' Baani Square, Sector 50, Gurgaon',\n",
       "       ' Malviya Nagar, New Delhi', ' Sector 49, Gurgaon',\n",
       "       ' Pandav Nagar, New Delhi',\n",
       "       ' Ansal Plaza Mall, Knowledge Park, Greater Noida',\n",
       "       ' Epicuria Food Mall, Nehru Place, New Delhi',\n",
       "       ' Jaypee Siddharth, Rajendra Place, New Delhi',\n",
       "       ' Sector 57, Gurgaon', ' Sector 25, Noida',\n",
       "       ' Punjabi Bagh, New Delhi', ' Lado Sarai, New Delhi',\n",
       "       ' Jail Road, New Delhi',\n",
       "       ' DLF Promenade Mall, Vasant Kunj, New Delhi',\n",
       "       ' South Extension 2, New Delhi', ' Adchini, New Delhi',\n",
       "       ' Uttam Nagar, New Delhi', ' Lajpat Nagar 3, New Delhi',\n",
       "       ' Elements One Mall, Sector 49, Gurgaon', ' Green Park, New Delhi',\n",
       "       ' Vaishali, Ghaziabad', ' Shahdara, New Delhi',\n",
       "       ' Uday Park, New Delhi', ' Asaf Ali Road, New Delhi',\n",
       "       ' Nizamuddin, New Delhi', ' Sector 83, Gurgaon',\n",
       "       ' Ballabhgarh, Faridabad', ' Sector 31, Gurgaon',\n",
       "       ' Sector 7, Faridabad', ' NIT, Faridabad',\n",
       "       ' Shalimar Bagh, New Delhi', ' DLF Cyber City, Gurgaon',\n",
       "       ' Holiday Inn, Mayur Vihar, New Delhi', ' Gamma 1, Greater Noida',\n",
       "       ' Daryaganj, New Delhi', ' Sector 52, Noida',\n",
       "       ' Ashok Vihar Phase 2, New Delhi', ' Sector 7, Dwarka, New Delhi',\n",
       "       '  32nd Avenue, NH8, Gurgaon, Gurgaon', ' Sector 17, Faridabad',\n",
       "       ' Jangpura, New Delhi', ' Chander Nagar, New Delhi',\n",
       "       ' Vikaspuri, New Delhi', ' Gaur City 2, Greater Noida',\n",
       "       ' Kalkaji, New Delhi', ' Panchsheel Park, New Delhi',\n",
       "       ' Rajinder Nagar, New Delhi', ' Worldmark 1, Aerocity, New Delhi',\n",
       "       ' Model Town 2, New Delhi', ' Pitampura, New Delhi',\n",
       "       ' Mayur Vihar Phase 1, New Delhi', ' Sector 14, Gurgaon',\n",
       "       ' Alpha 2, Greater Noida', ' Lajpat Nagar 4, New Delhi',\n",
       "       ' DLF Phase 3, Gurgaon',\n",
       "       ' Omaxe Connaught Place, Beta 2, Greater Noida',\n",
       "       ' Sector 81, Faridabad', ' Sohna Road, Gurgaon',\n",
       "       ' Mayur Vihar Phase 2, New Delhi',\n",
       "       ' Sushant Shopping Arcade, Sushant Lok, Gurgaon, Gurgaon',\n",
       "       ' Sector 11, Faridabad', ' Vivek Vihar, New Delhi',\n",
       "       ' Sector 63, Noida', ' South City 2, Gurgaon', ' Sector 45, Noida',\n",
       "       ' Sector 71, Noida', ' DLF Phase 2, Gurgaon',\n",
       "       ' Sector 29, Faridabad', ' Gujranwala Town, New Delhi',\n",
       "       ' Sector 54, Gurgaon',\n",
       "       ' Vibe by The LaLit Traveller, Mathura Road, Faridabad',\n",
       "       ' Gole Market, New Delhi', ' Old Railway Road, Gurgaon',\n",
       "       ' Janakpuri, New Delhi', ' Laxmi Nagar, New Delhi',\n",
       "       ' MG Road, Gurgaon', ' Aditya City Centre, Indirapuram, Ghaziabad',\n",
       "       ' Sector 37, Noida', ' Nehru Nagar, Ghaziabad',\n",
       "       ' The Lalit New Delhi, Barakhamba Road, New Delhi',\n",
       "       ' Chittaranjan Park, New Delhi',\n",
       "       ' Basant Lok Market, Vasant Vihar, New Delhi',\n",
       "       ' One Horizon Center, Golf Course Road, Gurgaon',\n",
       "       ' Alaknanda, New Delhi', ' Gwal Pahari, Gurgaon',\n",
       "       ' Sheikh Sarai, New Delhi', ' Barakhamba Road, New Delhi',\n",
       "       ' Sector 13, Dwarka, New Delhi', ' Sector 14, Faridabad',\n",
       "       ' Sector 62, Noida',\n",
       "       ' M Block Market, Greater Kailash 1 (GK1), New Delhi',\n",
       "       ' Yusuf Sarai, New Delhi', ' Preet Vihar, New Delhi',\n",
       "       ' Sector 45, Gurgaon', ' Crescent Square Mall, Rohini, New Delhi',\n",
       "       ' Palam Vihar, Gurgaon',\n",
       "       ' The Great India Place, Sector 38, Noida',\n",
       "       ' Living Style Mall, Jasola, New Delhi', ' Sector 132, Noida',\n",
       "       ' Gaur Central  Mall, Raj Nagar, Ghaziabad', ' Sector 37, Gurgaon',\n",
       "       ' Hyatt Place Gurgaon, Gurgaon',\n",
       "       ' PVR City Centre Mall, MG Road, Gurgaon', ' Narela, New Delhi',\n",
       "       ' Rajendra Place, New Delhi',\n",
       "       ' MGF Metropolitan Mall, Saket, New Delhi',\n",
       "       ' Amrapali Leisure Valley, Greater Noida',\n",
       "       ' Mayapuri Phase 2, New Delhi', ' Sector 7, Gurgaon',\n",
       "       ' MGF Metropolitan Mall, MG Road, Gurgaon', ' Sector 53, Gurgaon',\n",
       "       ' The India Mall, New Friends Colony, New Delhi',\n",
       "       ' Supermart 2, DLF Phase 4, Gurgaon',\n",
       "       ' Ameya Suites, Jasola, New Delhi', ' West Patel Nagar, New Delhi',\n",
       "       ' Sector 6, Dwarka, New Delhi', ' Sector 43, Faridabad',\n",
       "       ' Ninex City Mart Mall, Sohna Road, Gurgaon',\n",
       "       ' Sector 21, Faridabad', ' Kavi Nagar, Ghaziabad',\n",
       "       ' Ashok Vihar Phase 1, New Delhi',\n",
       "       ' Ashok Vihar Phase 3, New Delhi',\n",
       "       ' Vyapar Kendra, Sushant Lok, Gurgaon',\n",
       "       ' Meharchand Market, Lodhi Colony, New Delhi', ' Sector 50, Noida',\n",
       "       ' Shastri Nagar, Ghaziabad', ' Udyog Vihar, Gurgaon',\n",
       "       ' Sector 22, Faridabad', ' Najafgarh, New Delhi',\n",
       "       ' Omega 2, Greater Noida',\n",
       "       ' WelcomHotel Dwarka, Sector 10, Dwarka, New Delhi',\n",
       "       ' Ardee Mall, Ardee City, Gurgaon', ' IP Extension, New Delhi',\n",
       "       ' Sector 12, Faridabad',\n",
       "       ' Good Earth City Center, Sector 50, Gurgaon', ' Sector 15, Noida',\n",
       "       ' Tilak Nagar, New Delhi',\n",
       "       ' Hotel Alka Classic, Connaught Place, New Delhi',\n",
       "       ' Shakarpur, New Delhi',\n",
       "       ' Hong Kong Bazaar Mall, Sector 57, Gurgaon, Gurgaon',\n",
       "       ' Sector 29, Noida', ' Raheja Mall, Sohna Road, Gurgaon',\n",
       "       ' Radisson, Udyog Vihar, Gurgaon', ' Charmwood Village, Faridabad',\n",
       "       ' Sector 44, Noida', ' Badarpur Border, Faridabad',\n",
       "       ' Vasant Square Mall, Vasant Kunj, New Delhi',\n",
       "       ' Krishna Nagar, New Delhi', ' Chandni Chowk, New Delhi',\n",
       "       ' South Extension 1, New Delhi', ' Mathura Road, New Delhi',\n",
       "       ' Crown Plaza Mall, Sector 15, Faridabad, Faridabad',\n",
       "       ' Amrapali Dream Valley, Greater Noida', ' Sector 86, Faridabad',\n",
       "       ' Jaipuria Sunrise Plaza, Indirapuram, Ghaziabad',\n",
       "       ' Karampura, New Delhi', ' Kirti Nagar, New Delhi',\n",
       "       ' Sector 30, Noida', ' Sector 11, Noida', ' Sector 35, Faridabad',\n",
       "       ' Mukherjee Nagar, New Delhi', ' Palam, New Delhi',\n",
       "       ' Park Inn by Radisson, Lajpat Nagar 4, New Delhi',\n",
       "       ' Tagore Garden, New Delhi', ' Moti Nagar, New Delhi',\n",
       "       ' Ansal Plaza Mall, Palam Vihar, Gurgaon', ' Sector 37, Faridabad',\n",
       "       ' MSX Mall, Jaypee Greens, Greater Noida, Greater Noida',\n",
       "       ' Sector 23, Dwarka, New Delhi', ' Sector 30, Gurgaon',\n",
       "       ' Vasundhara, Ghaziabad', ' Geeta Colony, New Delhi',\n",
       "       ' Sector 23, Faridabad', ' Model Town 3, New Delhi',\n",
       "       ' Beta 1, Greater Noida',\n",
       "       ' Jaipuria Plaza, Sector 26, Noida, Noida', ' Sector 43, Gurgaon',\n",
       "       ' Harsha Mall, Alpha 1, Greater Noida, Greater Noida',\n",
       "       ' Naraina, New Delhi', ' Sector 49, Noida',\n",
       "       ' Panchsheel Square Mall, Crossing Republik, Ghaziabad',\n",
       "       ' Starling Mall, Sector 110, Noida, Noida', ' Jasola, New Delhi',\n",
       "       ' Model Town 1, New Delhi', ' Zakir Nagar, New Delhi',\n",
       "       ' Sector 19, Faridabad', ' SDA, New Delhi',\n",
       "       ' Sector 9, Dwarka, New Delhi', ' Knowledge Park, Greater Noida',\n",
       "       ' South City 1, Gurgaon',\n",
       "       ' The Grand New Delhi, Vasant Kunj, New Delhi',\n",
       "       ' The Grand Venice Mall, Jaypee Greens, Greater Noida, Greater Noida',\n",
       "       ' Spark Mall, Kamla Nagar, New Delhi',\n",
       "       ' Central Market, Lajpat Nagar 2, New Delhi',\n",
       "       ' Crown Interiorz Mall, Sector 35, Faridabad, Faridabad',\n",
       "       ' The Sapphire Mall, Sector 49, Gurgaon, Gurgaon',\n",
       "       ' Lajpat Nagar 1, New Delhi', ' Sector 15, Dwarka, New Delhi'],\n",
       "      dtype=object)"
      ]
     },
     "execution_count": 5,
     "metadata": {},
     "output_type": "execute_result"
    }
   ],
   "source": [
    "df['Final_rating'] = df.apply(lambda x: x['Dining_Rating'] * math.log10(x['Dining_Review_Count']), axis=1)\n",
    "df['Locality'].unique()"
   ]
  },
  {
   "cell_type": "code",
   "execution_count": 6,
   "id": "e10fe232",
   "metadata": {},
   "outputs": [
    {
     "name": "stdout",
     "output_type": "stream",
     "text": [
      "['Faridabad', 'Ghaziabad', 'Greater Noida', 'Gurgaon', 'New Delhi', 'Noida']\n"
     ]
    }
   ],
   "source": [
    "df['City'] = df.apply(lambda x: x['Locality'].split(\",\") , axis=1)\n",
    "df['City'] = df.apply(lambda x: x['City'][-1].strip() , axis=1)\n",
    "y=list(set(df['City']))\n",
    "y.sort()\n",
    "print(y)"
   ]
  },
  {
   "cell_type": "code",
   "execution_count": 7,
   "id": "e6761e83",
   "metadata": {},
   "outputs": [
    {
     "name": "stdout",
     "output_type": "stream",
     "text": [
      "1 Faridabad\t2 Ghaziabad\t3 Greater Noida\t4 Gurgaon\t5 New Delhi\t6 Noida\tEnter the location number 5\n"
     ]
    },
    {
     "data": {
      "text/plain": [
       "'New Delhi'"
      ]
     },
     "execution_count": 7,
     "metadata": {},
     "output_type": "execute_result"
    }
   ],
   "source": [
    "for (i, item) in enumerate(y, start=1):\n",
    "    print(i, item, end='\\t')\n",
    "city=y[int(input(\"Enter the location number \")) -1]\n",
    "city"
   ]
  },
  {
   "cell_type": "code",
   "execution_count": 8,
   "id": "b581275a",
   "metadata": {},
   "outputs": [],
   "source": [
    "df.drop(['Delivery_Rating','Delivery_Rating_Count','Dining_Review_Count','Website','Phone_No','Longitude','Latitude','Known_For2','Known_For22'],axis=1,inplace=True)"
   ]
  },
  {
   "cell_type": "code",
   "execution_count": 9,
   "id": "023a1bdf",
   "metadata": {},
   "outputs": [
    {
     "data": {
      "text/plain": [
       "Index(['Restaurant_Name', 'Category', 'Pricing_for_2', 'Locality',\n",
       "       'Dining_Rating', 'Address', 'id', 'Final_rating', 'City'],\n",
       "      dtype='object')"
      ]
     },
     "execution_count": 9,
     "metadata": {},
     "output_type": "execute_result"
    }
   ],
   "source": [
    "df.columns"
   ]
  },
  {
   "cell_type": "code",
   "execution_count": 10,
   "id": "25558e53",
   "metadata": {},
   "outputs": [
    {
     "data": {
      "text/plain": [
       "Index(['Restaurant_Name', 'Category', 'Pricing_for_2', 'Locality',\n",
       "       'Dining_Rating', 'Address', 'id', 'Final_rating', 'City'],\n",
       "      dtype='object')"
      ]
     },
     "execution_count": 10,
     "metadata": {},
     "output_type": "execute_result"
    }
   ],
   "source": [
    "tf=df[df.City==city].copy()\n",
    "tf.columns\n",
    "#tf.drop(['Restaurant_Name','Locality'],axis=1,inplace=True)"
   ]
  },
  {
   "cell_type": "code",
   "execution_count": 11,
   "id": "496d469b",
   "metadata": {},
   "outputs": [
    {
     "data": {
      "text/plain": [
       "{'New Delhi'}"
      ]
     },
     "execution_count": 11,
     "metadata": {},
     "output_type": "execute_result"
    }
   ],
   "source": [
    "set(tf['City'])"
   ]
  },
  {
   "cell_type": "code",
   "execution_count": 12,
   "id": "4e696428",
   "metadata": {},
   "outputs": [],
   "source": [
    "m=tf['Final_rating'].max()\n",
    "tf['Final_rating'] = tf.apply(lambda x: (x['Final_rating']*5)/m,axis=1)"
   ]
  },
  {
   "cell_type": "code",
   "execution_count": 13,
   "id": "77eabe27",
   "metadata": {},
   "outputs": [
    {
     "name": "stdout",
     "output_type": "stream",
     "text": [
      "1           [Cafe, South Indian, North Indian, Beverages]\n",
      "5                                          [South Indian]\n",
      "7                                   [Ice Cream, Desserts]\n",
      "9       [South Indian, North Indian, Fast Food, Desser...\n",
      "12      [Cafe, Continental, Italian, Fast Food, Orient...\n",
      "                              ...                        \n",
      "1944                        [Bakery, Fast Food, Desserts]\n",
      "1951                       [North Indian, Mughlai, Rolls]\n",
      "1952                              [North Indian, Chinese]\n",
      "1953                              [Mughlai, North Indian]\n",
      "1955                    [Chinese, Tibetan, Thai, Seafood]\n",
      "Name: Category, Length: 554, dtype: object\n"
     ]
    }
   ],
   "source": [
    "tf['Category'] = tf.apply(lambda x: x['Category'].split(\",\"),axis=1)\n",
    "tf['Category'] = tf.apply(lambda x: list(i.strip() for i in x['Category']),axis=1)\n",
    "print(tf['Category'])\n",
    "\n",
    "x = list(tf.get('Category'))\n",
    "x = list(set(itertools.chain.from_iterable(x)))"
   ]
  },
  {
   "cell_type": "code",
   "execution_count": 14,
   "id": "686b94ec",
   "metadata": {},
   "outputs": [
    {
     "name": "stdout",
     "output_type": "stream",
     "text": [
      "1 Pizza\t2 Raw Meats\t3 Mediterranean\t4 Seafood\t5 South Indian\n",
      "6 Korean\t7 European\t8 Bakery\t9 Nepalese\t10 French\n",
      "11 Cafe\t12 Kerala\t13 Juices\t14 Street Food\t15 Singaporean\n",
      "16 Odia\t17 Spanish\t18 Hyderabadi\t19 Sandwich\t20 Mexican\n",
      "21 Thai\t22 Afghan\t23 Coffee\t24 Fast Food\t25 Burmese\n",
      "26 Rolls\t27 Lebanese\t28 Naga\t29 Beverages\t30 American\n",
      "31 Salad\t32 Tea\t33 Bengali\t34 Turkish\t35 Asian\n",
      "36 Momos\t37 Chettinad\t38 Mithai\t39 Sushi\t40 North Eastern\n",
      "41 Mughlai\t42 BBQ\t43 Healthy Food\t44 Oriental\t45 Bar Food\n",
      "46 Japanese\t47 Biryani\t48 Ice Cream\t49 Pasta\t50 Awadhi\n",
      "51 Middle Eastern\t52 Arabian\t53 Rajasthani\t54 Italian\t55 North Indian\n",
      "56 Finger Food\t57 Kebab\t58 Andhra\t59 Burger\t60 Wraps\n",
      "61 Vietnamese\t62 Gujarati\t63 Tibetan\t64 Continental\t65 Iranian\n",
      "66 Tex-Mex\t67 Panini\t68 Bihari\t69 Assamese\t70 Tamil\n",
      "71 Desserts\t72 Chinese\tselect 5 categoies1\n",
      "select 5 categoies2\n",
      "select 5 categoies3\n",
      "select 5 categoies4\n",
      "select 5 categoies5\n"
     ]
    }
   ],
   "source": [
    "for (i, item) in enumerate(x, start=1):\n",
    "    if i%5==0:\n",
    "        t='\\n'\n",
    "    else:\n",
    "        t='\\t'\n",
    "    print(i, item ,end=t)\n",
    "categories=[]\n",
    "for i in range(5):\n",
    "    categories.append(x[int(input('select 5 categoies'))-1])"
   ]
  },
  {
   "cell_type": "code",
   "execution_count": 15,
   "id": "6f114b15",
   "metadata": {},
   "outputs": [],
   "source": [
    "def intersection(lst1, lst2):\n",
    "    lst3 = [value for value in lst1 if value in lst2]\n",
    "    return len(lst3)"
   ]
  },
  {
   "cell_type": "code",
   "execution_count": 16,
   "id": "3e343f43",
   "metadata": {},
   "outputs": [],
   "source": [
    "tf[\"CategoryMatch\"] = tf.apply(lambda x: intersection(x['Category'],categories),axis=1)"
   ]
  },
  {
   "cell_type": "code",
   "execution_count": 17,
   "id": "8fc7f5b0",
   "metadata": {},
   "outputs": [],
   "source": [
    "j=tf['Pricing_for_2'].max()\n",
    "tf['Pricing_index']=tf.apply(lambda x: (x['Pricing_for_2']*5)/j, axis=1)"
   ]
  },
  {
   "cell_type": "code",
   "execution_count": 18,
   "id": "f24fc300",
   "metadata": {},
   "outputs": [],
   "source": [
    "x = tf[['Dining_Rating','Final_rating','Pricing_index','CategoryMatch']]\n",
    "y = tf['id']"
   ]
  },
  {
   "cell_type": "code",
   "execution_count": 19,
   "id": "afa85526",
   "metadata": {},
   "outputs": [
    {
     "name": "stdout",
     "output_type": "stream",
     "text": [
      "Enter price for 2 in multiple of 100\t1500\n"
     ]
    }
   ],
   "source": [
    "p = int(input(\"Enter price for 2 in multiple of 100\\t\"))\n",
    "x_test = pd.DataFrame({'Dining_Rating':[5],'Final_rating':[5],'Pricing_index':[(p*5)/j],'CategoryMatch':[5]})"
   ]
  },
  {
   "cell_type": "code",
   "execution_count": 20,
   "id": "e961d7c1",
   "metadata": {},
   "outputs": [
    {
     "data": {
      "text/plain": [
       "(array([[3.19974096, 3.31906286, 3.45658971, 3.63821145, 3.91679255]]),\n",
       " array([[ 14, 327, 158, 336,   7]], dtype=int64))"
      ]
     },
     "execution_count": 20,
     "metadata": {},
     "output_type": "execute_result"
    }
   ],
   "source": [
    "knn = KNeighborsClassifier(n_neighbors=5)\n",
    "knn.fit(x,y)\n",
    "\n",
    "distance , y_pred = knn.kneighbors(x_test,n_neighbors=5)\n",
    "distance , y_pred"
   ]
  },
  {
   "cell_type": "code",
   "execution_count": 21,
   "id": "78177d2c",
   "metadata": {},
   "outputs": [
    {
     "data": {
      "text/html": [
       "<div>\n",
       "<style scoped>\n",
       "    .dataframe tbody tr th:only-of-type {\n",
       "        vertical-align: middle;\n",
       "    }\n",
       "\n",
       "    .dataframe tbody tr th {\n",
       "        vertical-align: top;\n",
       "    }\n",
       "\n",
       "    .dataframe thead th {\n",
       "        text-align: right;\n",
       "    }\n",
       "</style>\n",
       "<table border=\"1\" class=\"dataframe\">\n",
       "  <thead>\n",
       "    <tr style=\"text-align: right;\">\n",
       "      <th></th>\n",
       "      <th>Restaurant_Name</th>\n",
       "      <th>Category</th>\n",
       "      <th>Pricing_for_2</th>\n",
       "      <th>Locality</th>\n",
       "      <th>Dining_Rating</th>\n",
       "      <th>Address</th>\n",
       "      <th>id</th>\n",
       "      <th>Final_rating</th>\n",
       "      <th>City</th>\n",
       "      <th>CategoryMatch</th>\n",
       "      <th>Pricing_index</th>\n",
       "    </tr>\n",
       "  </thead>\n",
       "  <tbody>\n",
       "    <tr>\n",
       "      <th>66</th>\n",
       "      <td>Mahabelly</td>\n",
       "      <td>[Kerala, South Indian, Seafood, Biryani]</td>\n",
       "      <td>700</td>\n",
       "      <td>DLF Avenue, Saket, New Delhi</td>\n",
       "      <td>4.6</td>\n",
       "      <td>MA-A05, Ground Floor, Restaurant Block, DLF Av...</td>\n",
       "      <td>66</td>\n",
       "      <td>4.319416</td>\n",
       "      <td>New Delhi</td>\n",
       "      <td>2</td>\n",
       "      <td>0.686275</td>\n",
       "    </tr>\n",
       "    <tr>\n",
       "      <th>1179</th>\n",
       "      <td>Ardor 2.1</td>\n",
       "      <td>[North Indian, Chinese, Continental, Italian, ...</td>\n",
       "      <td>1800</td>\n",
       "      <td>Connaught Place, New Delhi</td>\n",
       "      <td>4.0</td>\n",
       "      <td>N-55/56 &amp; 88/89, Outer Circle, Connaught Place...</td>\n",
       "      <td>1179</td>\n",
       "      <td>4.035804</td>\n",
       "      <td>New Delhi</td>\n",
       "      <td>2</td>\n",
       "      <td>1.764706</td>\n",
       "    </tr>\n",
       "    <tr>\n",
       "      <th>649</th>\n",
       "      <td>Swagath</td>\n",
       "      <td>[North Indian, Chinese, South Indian, Seafood]</td>\n",
       "      <td>2000</td>\n",
       "      <td>Defence Colony Main Market, Defence Colony, N...</td>\n",
       "      <td>4.2</td>\n",
       "      <td>Shop 13 - 14, Defence Colony Market, Near Defe...</td>\n",
       "      <td>649</td>\n",
       "      <td>3.562043</td>\n",
       "      <td>New Delhi</td>\n",
       "      <td>2</td>\n",
       "      <td>1.960784</td>\n",
       "    </tr>\n",
       "    <tr>\n",
       "      <th>1211</th>\n",
       "      <td>Singla's</td>\n",
       "      <td>[North Indian, Mithai, Chinese, Fast Food, Str...</td>\n",
       "      <td>500</td>\n",
       "      <td>IP Extension, New Delhi</td>\n",
       "      <td>4.0</td>\n",
       "      <td>A-139/140, Main Road, Madhu Vihar, Near Hasanp...</td>\n",
       "      <td>1211</td>\n",
       "      <td>3.491553</td>\n",
       "      <td>New Delhi</td>\n",
       "      <td>2</td>\n",
       "      <td>0.490196</td>\n",
       "    </tr>\n",
       "    <tr>\n",
       "      <th>21</th>\n",
       "      <td>Olive Bar &amp; Kitchen</td>\n",
       "      <td>[Italian, Pizza, Mediterranean, Continental, E...</td>\n",
       "      <td>4000</td>\n",
       "      <td>Mehrauli, New Delhi</td>\n",
       "      <td>4.7</td>\n",
       "      <td>6-8, Kalka Das Marg, Mehrauli, New Delhi</td>\n",
       "      <td>21</td>\n",
       "      <td>4.506078</td>\n",
       "      <td>New Delhi</td>\n",
       "      <td>2</td>\n",
       "      <td>3.921569</td>\n",
       "    </tr>\n",
       "  </tbody>\n",
       "</table>\n",
       "</div>"
      ],
      "text/plain": [
       "          Restaurant_Name                                           Category  \\\n",
       "66              Mahabelly           [Kerala, South Indian, Seafood, Biryani]   \n",
       "1179            Ardor 2.1  [North Indian, Chinese, Continental, Italian, ...   \n",
       "649               Swagath     [North Indian, Chinese, South Indian, Seafood]   \n",
       "1211             Singla's  [North Indian, Mithai, Chinese, Fast Food, Str...   \n",
       "21    Olive Bar & Kitchen  [Italian, Pizza, Mediterranean, Continental, E...   \n",
       "\n",
       "      Pricing_for_2                                           Locality  \\\n",
       "66              700                       DLF Avenue, Saket, New Delhi   \n",
       "1179           1800                         Connaught Place, New Delhi   \n",
       "649            2000   Defence Colony Main Market, Defence Colony, N...   \n",
       "1211            500                            IP Extension, New Delhi   \n",
       "21             4000                                Mehrauli, New Delhi   \n",
       "\n",
       "      Dining_Rating                                            Address    id  \\\n",
       "66              4.6  MA-A05, Ground Floor, Restaurant Block, DLF Av...    66   \n",
       "1179            4.0  N-55/56 & 88/89, Outer Circle, Connaught Place...  1179   \n",
       "649             4.2  Shop 13 - 14, Defence Colony Market, Near Defe...   649   \n",
       "1211            4.0  A-139/140, Main Road, Madhu Vihar, Near Hasanp...  1211   \n",
       "21              4.7           6-8, Kalka Das Marg, Mehrauli, New Delhi    21   \n",
       "\n",
       "      Final_rating       City  CategoryMatch  Pricing_index  \n",
       "66        4.319416  New Delhi              2       0.686275  \n",
       "1179      4.035804  New Delhi              2       1.764706  \n",
       "649       3.562043  New Delhi              2       1.960784  \n",
       "1211      3.491553  New Delhi              2       0.490196  \n",
       "21        4.506078  New Delhi              2       3.921569  "
      ]
     },
     "execution_count": 21,
     "metadata": {},
     "output_type": "execute_result"
    }
   ],
   "source": [
    "tf.iloc[y_pred[0]]"
   ]
  },
  {
   "cell_type": "code",
   "execution_count": null,
   "id": "1be8ab4a",
   "metadata": {},
   "outputs": [],
   "source": []
  },
  {
   "cell_type": "code",
   "execution_count": null,
   "id": "12c050f4",
   "metadata": {},
   "outputs": [],
   "source": []
  },
  {
   "cell_type": "code",
   "execution_count": null,
   "id": "b9902951",
   "metadata": {
    "scrolled": false
   },
   "outputs": [],
   "source": []
  },
  {
   "cell_type": "code",
   "execution_count": null,
   "id": "37ff3e80",
   "metadata": {},
   "outputs": [],
   "source": []
  },
  {
   "cell_type": "code",
   "execution_count": null,
   "id": "51d8938f",
   "metadata": {},
   "outputs": [],
   "source": []
  },
  {
   "cell_type": "code",
   "execution_count": null,
   "id": "ebc744c2",
   "metadata": {},
   "outputs": [],
   "source": []
  }
 ],
 "metadata": {
  "kernelspec": {
   "display_name": "Python 3 (ipykernel)",
   "language": "python",
   "name": "python3"
  },
  "language_info": {
   "codemirror_mode": {
    "name": "ipython",
    "version": 3
   },
   "file_extension": ".py",
   "mimetype": "text/x-python",
   "name": "python",
   "nbconvert_exporter": "python",
   "pygments_lexer": "ipython3",
   "version": "3.10.9"
  }
 },
 "nbformat": 4,
 "nbformat_minor": 5
}
